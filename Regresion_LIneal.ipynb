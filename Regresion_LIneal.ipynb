{
  "nbformat": 4,
  "nbformat_minor": 0,
  "metadata": {
    "colab": {
      "provenance": []
    },
    "kernelspec": {
      "name": "python3",
      "display_name": "Python 3"
    },
    "language_info": {
      "name": "python"
    }
  },
  "cells": [
    {
      "cell_type": "code",
      "source": [
        "#Datos\n",
        "x=[10,11,12,13,14,15,16]\n",
        "y=[146,154,163,174,182,186,191]"
      ],
      "metadata": {
        "id": "Tz3gXvohy6jg"
      },
      "execution_count": 2,
      "outputs": []
    },
    {
      "cell_type": "code",
      "source": [
        "import numpy as np\n",
        "import matplotlib.pyplot as plt"
      ],
      "metadata": {
        "id": "QyJXvVJ70yFo"
      },
      "execution_count": 1,
      "outputs": []
    },
    {
      "cell_type": "code",
      "source": [
        "%matplotlib inline \n",
        "%config InlineBackend.figure_format= \"svg\""
      ],
      "metadata": {
        "id": "P3g2RNBD1Lqv"
      },
      "execution_count": 12,
      "outputs": []
    },
    {
      "cell_type": "code",
      "source": [
        "n= len(x)\n",
        "x= np.array(x)\n",
        "y= np.array(y)\n",
        "Sumx=sum(x)\n",
        "Sumy=sum(y)\n",
        "Sumx2=sum(x*x)\n",
        "Sumy2=sum(y*y)\n",
        "Sumxy= sum(x*y)\n",
        "promx=Sumx/n\n",
        "promy=Sumy/n\n",
        "\n"
      ],
      "metadata": {
        "id": "jIDKF99h2IpY"
      },
      "execution_count": 9,
      "outputs": []
    },
    {
      "cell_type": "code",
      "source": [
        "m= (Sumx*Sumy - n*Sumxy)/(Sumx**2 - n*Sumx2)\n",
        "b= promy - m*promx"
      ],
      "metadata": {
        "id": "_TyOLS1q3yqt"
      },
      "execution_count": 10,
      "outputs": []
    },
    {
      "cell_type": "code",
      "source": [
        "plt.plot(x, y, \"o\" , label=\"Datos\")\n",
        "plt.plot(x, m*x + b, label=\"Ajuste\")\n",
        "plt.xlabel(\"X\")\n",
        "plt.ylabel(\"Y\")\n",
        "plt.title(\"regresion Lineal\")\n",
        "plt.grid()\n",
        "plt.legend()\n",
        "plt.show()"
      ],
      "metadata": {
        "colab": {
          "base_uri": "https://localhost:8080/",
          "height": 295
        },
        "id": "LaGgQZi45-0p",
        "outputId": "68d7d693-2cd2-4d84-9474-816f12a44eb7"
      },
      "execution_count": 11,
      "outputs": [
        {
          "output_type": "display_data",
          "data": {
            "text/plain": [
              "<Figure size 432x288 with 1 Axes>"
            ],
            "image/png": "[encoded data removed]"
          },
          "metadata": {
            "needs_background": "light"
          }
        }
      ]
    }
  ]
}