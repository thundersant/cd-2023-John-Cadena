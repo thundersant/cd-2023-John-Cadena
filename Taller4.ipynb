{
  "nbformat": 4,
  "nbformat_minor": 0,
  "metadata": {
    "colab": {
      "provenance": []
    },
    "kernelspec": {
      "name": "python3",
      "display_name": "Python 3"
    },
    "language_info": {
      "name": "python"
    }
  },
  "cells": [
    {
      "cell_type": "code",
      "execution_count": null,
      "metadata": {
        "id": "0oIEB15P81k9"
      },
      "outputs": [],
      "source": [
        "import random\n",
        "#RANGO\n",
        "INTERVAL= 10000\n",
        "\n",
        "  \n",
        "circle_points= 0 #PUNTOS DENTRO DEL CÍRCULO \n",
        "square_points= 0 #PUNTOS DENTRO DEL CUADRADO\n",
        "  \n",
        "for i in range(INTERVAL**2):\n",
        "\n",
        "    #GENERACIÓN DE PUNTOS\n",
        "    rand_x= random.uniform(0, 1)\n",
        "    rand_y= random.uniform(0, 1)\n",
        " \n",
        "    #DISTANCIA DE CADA PUNTO DEL ORIGEN\n",
        "    origin_dist= (rand_x**2 + rand_y**2)**0.5\n",
        "  \n",
        "    #COMPROBAR SI EL PUNTO ESTÁ DENTRO DEL CÍRCULO.\n",
        "    if origin_dist<= 1:\n",
        "        circle_points+= 1\n",
        "  \n",
        "    square_points+= 1\n",
        "\n",
        "    #OBTENCIÓN DEL VALOR DE PI.\n",
        "    pi = 4* circle_points/ square_points\n",
        "\n",
        "#ESTIMACIÓN FINAL.\n",
        "print(\"PI ESTIMATION: \", pi)\n",
        "print('TOTAL POINTS: ',square_points) \n",
        "print('La distancia de cada punto al origen es:',origin_dist)\n"
      ]
    }
  ]
}